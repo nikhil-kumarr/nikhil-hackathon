{
 "cells": [
  {
   "cell_type": "code",
   "execution_count": 1,
   "id": "b0fb0665",
   "metadata": {},
   "outputs": [],
   "source": [
    "import pandas as pd\n",
    "import numpy as np"
   ]
  },
  {
   "cell_type": "code",
   "execution_count": 2,
   "id": "aa4110a6",
   "metadata": {},
   "outputs": [],
   "source": [
    "df=pd.read_csv(r\"C:\\Users\\Maruthipadala\\Downloads\\uber_rides_data.xlsx - sample_train.csv\")"
   ]
  },
  {
   "cell_type": "code",
   "execution_count": 3,
   "id": "64769086",
   "metadata": {},
   "outputs": [
    {
     "data": {
      "text/html": [
       "<div>\n",
       "<style scoped>\n",
       "    .dataframe tbody tr th:only-of-type {\n",
       "        vertical-align: middle;\n",
       "    }\n",
       "\n",
       "    .dataframe tbody tr th {\n",
       "        vertical-align: top;\n",
       "    }\n",
       "\n",
       "    .dataframe thead th {\n",
       "        text-align: right;\n",
       "    }\n",
       "</style>\n",
       "<table border=\"1\" class=\"dataframe\">\n",
       "  <thead>\n",
       "    <tr style=\"text-align: right;\">\n",
       "      <th></th>\n",
       "      <th>ride_id</th>\n",
       "      <th>fare_amount</th>\n",
       "      <th>pickup_datetime</th>\n",
       "      <th>pickup_longitude</th>\n",
       "      <th>pickup_latitude</th>\n",
       "      <th>dropoff_longitude</th>\n",
       "      <th>dropoff_latitude</th>\n",
       "      <th>passenger_count</th>\n",
       "    </tr>\n",
       "  </thead>\n",
       "  <tbody>\n",
       "    <tr>\n",
       "      <th>0</th>\n",
       "      <td>24238194</td>\n",
       "      <td>7.5</td>\n",
       "      <td>2015-05-07 19:52:06 UTC</td>\n",
       "      <td>-73.999817</td>\n",
       "      <td>40.738354</td>\n",
       "      <td>-73.999512</td>\n",
       "      <td>40.723217</td>\n",
       "      <td>1</td>\n",
       "    </tr>\n",
       "    <tr>\n",
       "      <th>1</th>\n",
       "      <td>27835199</td>\n",
       "      <td>7.7</td>\n",
       "      <td>2009-07-17 20:04:56 UTC</td>\n",
       "      <td>-73.994355</td>\n",
       "      <td>40.728225</td>\n",
       "      <td>-73.994710</td>\n",
       "      <td>40.750325</td>\n",
       "      <td>1</td>\n",
       "    </tr>\n",
       "    <tr>\n",
       "      <th>2</th>\n",
       "      <td>44984355</td>\n",
       "      <td>12.9</td>\n",
       "      <td>2009-08-24 21:45:00 UTC</td>\n",
       "      <td>-74.005043</td>\n",
       "      <td>40.740770</td>\n",
       "      <td>-73.962565</td>\n",
       "      <td>40.772647</td>\n",
       "      <td>1</td>\n",
       "    </tr>\n",
       "    <tr>\n",
       "      <th>3</th>\n",
       "      <td>25894730</td>\n",
       "      <td>5.3</td>\n",
       "      <td>2009-06-26 08:22:21 UTC</td>\n",
       "      <td>-73.976124</td>\n",
       "      <td>40.790844</td>\n",
       "      <td>-73.965316</td>\n",
       "      <td>40.803349</td>\n",
       "      <td>3</td>\n",
       "    </tr>\n",
       "    <tr>\n",
       "      <th>4</th>\n",
       "      <td>17610152</td>\n",
       "      <td>16.0</td>\n",
       "      <td>2014-08-28 17:47:00 UTC</td>\n",
       "      <td>-73.925023</td>\n",
       "      <td>40.744085</td>\n",
       "      <td>-73.973082</td>\n",
       "      <td>40.761247</td>\n",
       "      <td>5</td>\n",
       "    </tr>\n",
       "  </tbody>\n",
       "</table>\n",
       "</div>"
      ],
      "text/plain": [
       "    ride_id  fare_amount          pickup_datetime  pickup_longitude  \\\n",
       "0  24238194          7.5  2015-05-07 19:52:06 UTC        -73.999817   \n",
       "1  27835199          7.7  2009-07-17 20:04:56 UTC        -73.994355   \n",
       "2  44984355         12.9  2009-08-24 21:45:00 UTC        -74.005043   \n",
       "3  25894730          5.3  2009-06-26 08:22:21 UTC        -73.976124   \n",
       "4  17610152         16.0  2014-08-28 17:47:00 UTC        -73.925023   \n",
       "\n",
       "   pickup_latitude  dropoff_longitude  dropoff_latitude  passenger_count  \n",
       "0        40.738354         -73.999512         40.723217                1  \n",
       "1        40.728225         -73.994710         40.750325                1  \n",
       "2        40.740770         -73.962565         40.772647                1  \n",
       "3        40.790844         -73.965316         40.803349                3  \n",
       "4        40.744085         -73.973082         40.761247                5  "
      ]
     },
     "execution_count": 3,
     "metadata": {},
     "output_type": "execute_result"
    }
   ],
   "source": [
    "df.head()"
   ]
  },
  {
   "cell_type": "markdown",
   "id": "46c6d375",
   "metadata": {},
   "source": [
    "## 1.What is the shape of given dataset?"
   ]
  },
  {
   "cell_type": "code",
   "execution_count": 4,
   "id": "96fcf014",
   "metadata": {},
   "outputs": [
    {
     "data": {
      "text/plain": [
       "(200000, 8)"
      ]
     },
     "execution_count": 4,
     "metadata": {},
     "output_type": "execute_result"
    }
   ],
   "source": [
    "df.shape"
   ]
  },
  {
   "cell_type": "markdown",
   "id": "bd67831d",
   "metadata": {},
   "source": [
    "###  2) How many integer columns(by default) are given in the dataset?"
   ]
  },
  {
   "cell_type": "code",
   "execution_count": 5,
   "id": "f9d40b3a",
   "metadata": {},
   "outputs": [
    {
     "name": "stdout",
     "output_type": "stream",
     "text": [
      "<class 'pandas.core.frame.DataFrame'>\n",
      "RangeIndex: 200000 entries, 0 to 199999\n",
      "Data columns (total 8 columns):\n",
      " #   Column             Non-Null Count   Dtype  \n",
      "---  ------             --------------   -----  \n",
      " 0   ride_id            200000 non-null  int64  \n",
      " 1   fare_amount        200000 non-null  float64\n",
      " 2   pickup_datetime    200000 non-null  object \n",
      " 3   pickup_longitude   200000 non-null  float64\n",
      " 4   pickup_latitude    200000 non-null  float64\n",
      " 5   dropoff_longitude  199999 non-null  float64\n",
      " 6   dropoff_latitude   199999 non-null  float64\n",
      " 7   passenger_count    200000 non-null  int64  \n",
      "dtypes: float64(5), int64(2), object(1)\n",
      "memory usage: 12.2+ MB\n"
     ]
    }
   ],
   "source": [
    "df.info() # 2 columns"
   ]
  },
  {
   "cell_type": "markdown",
   "id": "88986dc6",
   "metadata": {},
   "source": [
    "### 3)How many missing values exists in 'dropoff_longitude' column?\n"
   ]
  },
  {
   "cell_type": "code",
   "execution_count": 6,
   "id": "17b954cf",
   "metadata": {},
   "outputs": [
    {
     "data": {
      "text/plain": [
       "ride_id              0\n",
       "fare_amount          0\n",
       "pickup_datetime      0\n",
       "pickup_longitude     0\n",
       "pickup_latitude      0\n",
       "dropoff_longitude    1\n",
       "dropoff_latitude     1\n",
       "passenger_count      0\n",
       "dtype: int64"
      ]
     },
     "execution_count": 6,
     "metadata": {},
     "output_type": "execute_result"
    }
   ],
   "source": [
    "df.isnull().sum()  # 1null values in dropoff_longitude"
   ]
  },
  {
   "cell_type": "code",
   "execution_count": 7,
   "id": "3572dd38",
   "metadata": {},
   "outputs": [],
   "source": [
    "df.dropna(inplace=True)"
   ]
  },
  {
   "cell_type": "markdown",
   "id": "a7a335ba",
   "metadata": {},
   "source": [
    "### 4) What is the data type of ' pickup_datetime' feature in your data?\n"
   ]
  },
  {
   "cell_type": "code",
   "execution_count": 8,
   "id": "c43b1499",
   "metadata": {},
   "outputs": [
    {
     "name": "stdout",
     "output_type": "stream",
     "text": [
      "<class 'pandas.core.frame.DataFrame'>\n",
      "Int64Index: 199999 entries, 0 to 199999\n",
      "Data columns (total 8 columns):\n",
      " #   Column             Non-Null Count   Dtype  \n",
      "---  ------             --------------   -----  \n",
      " 0   ride_id            199999 non-null  int64  \n",
      " 1   fare_amount        199999 non-null  float64\n",
      " 2   pickup_datetime    199999 non-null  object \n",
      " 3   pickup_longitude   199999 non-null  float64\n",
      " 4   pickup_latitude    199999 non-null  float64\n",
      " 5   dropoff_longitude  199999 non-null  float64\n",
      " 6   dropoff_latitude   199999 non-null  float64\n",
      " 7   passenger_count    199999 non-null  int64  \n",
      "dtypes: float64(5), int64(2), object(1)\n",
      "memory usage: 13.7+ MB\n"
     ]
    }
   ],
   "source": [
    "df.info()  ## object"
   ]
  },
  {
   "cell_type": "markdown",
   "id": "89cf55cb",
   "metadata": {},
   "source": [
    "### Calculate distance between each pickup and dropoff points using Haversine formula. What is the median haversine distance between pickup and dropoff location according to the given dataset?"
   ]
  },
  {
   "cell_type": "code",
   "execution_count": 9,
   "id": "ea764a9c",
   "metadata": {},
   "outputs": [
    {
     "data": {
      "text/plain": [
       "2.1209923961833708"
      ]
     },
     "execution_count": 9,
     "metadata": {},
     "output_type": "execute_result"
    }
   ],
   "source": [
    "import numpy as np\n",
    "\n",
    "def haversine(lat1, lon1, lat2, lon2):\n",
    "    # Convert latitude and longitude from degrees to radians\n",
    "    lat1, lon1, lat2, lon2 = np.radians([lat1, lon1, lat2, lon2])\n",
    "    \n",
    "    # Haversine formula\n",
    "    dlon = lon2 - lon1\n",
    "    dlat = lat2 - lat1\n",
    "    a = np.sin(dlat/2)**2 + np.cos(lat1) * np.cos(lat2) * np.sin(dlon/2)**2\n",
    "    c = 2 * np.arcsin(np.sqrt(a))\n",
    "    \n",
    "    # Radius of Earth in kilometers (mean value)\n",
    "    r = 6371.0\n",
    "    \n",
    "    # Calculate the distance\n",
    "    distance = r * c\n",
    "    return distance\n",
    "df['haversine_distance'] = df.apply(lambda row: haversine(row['pickup_latitude'], row['pickup_longitude'], row['dropoff_latitude'], row['dropoff_longitude']), axis=1)\n",
    "median_haversine_distance = df['haversine_distance'].median()\n",
    "\n",
    "median_haversine_distance"
   ]
  },
  {
   "cell_type": "markdown",
   "id": "8b6d9cb1",
   "metadata": {},
   "source": [
    "### What is the average fare amount?\n",
    "11.359891549458371"
   ]
  },
  {
   "cell_type": "code",
   "execution_count": 10,
   "id": "f87bb0bb",
   "metadata": {},
   "outputs": [
    {
     "data": {
      "text/plain": [
       "11.359891549458371"
      ]
     },
     "execution_count": 10,
     "metadata": {},
     "output_type": "execute_result"
    }
   ],
   "source": [
    "average_fare = df['fare_amount'].mean()\n",
    "average_fare"
   ]
  },
  {
   "cell_type": "markdown",
   "id": "7df12be6",
   "metadata": {},
   "source": [
    "### What is the maximum haversine distance between pickup and dropoff location according to the given dataset?"
   ]
  },
  {
   "cell_type": "code",
   "execution_count": 11,
   "id": "5b7f19fe",
   "metadata": {},
   "outputs": [
    {
     "data": {
      "text/plain": [
       "16409.239135313164"
      ]
     },
     "execution_count": 11,
     "metadata": {},
     "output_type": "execute_result"
    }
   ],
   "source": [
    "max_distance=df['haversine_distance'].max()\n",
    "max_distance"
   ]
  },
  {
   "cell_type": "markdown",
   "id": "ed21ad0a",
   "metadata": {},
   "source": [
    "### How many rides have 0.0 haversine distance between pickup and dropoff location according to the given dataset?"
   ]
  },
  {
   "cell_type": "code",
   "execution_count": 12,
   "id": "f1d68d7a",
   "metadata": {},
   "outputs": [
    {
     "name": "stdout",
     "output_type": "stream",
     "text": [
      "Number of rides with 0.0 Haversine distance between pickup and dropoff location: 5632\n"
     ]
    }
   ],
   "source": [
    "# Assuming you have already calculated 'haversine_distance' as a column in your DataFrame\n",
    "\n",
    "# Filter the DataFrame to include only rides with 0.0 Haversine distance\n",
    "zero_distance_rides = df[df['haversine_distance'] == 0.0]\n",
    "\n",
    "# Count the number of rides with 0.0 Haversine distance\n",
    "num_zero_distance_rides = len(zero_distance_rides)\n",
    "\n",
    "# Print the result\n",
    "print(\"Number of rides with 0.0 Haversine distance between pickup and dropoff location:\", num_zero_distance_rides)\n"
   ]
  },
  {
   "cell_type": "markdown",
   "id": "f36e28c4",
   "metadata": {},
   "source": [
    "### What is the mean 'fare_amount' for rides with 0 haversine distance?"
   ]
  },
  {
   "cell_type": "code",
   "execution_count": 13,
   "id": "fbeec526",
   "metadata": {},
   "outputs": [
    {
     "data": {
      "text/plain": [
       "11.585317826704578"
      ]
     },
     "execution_count": 13,
     "metadata": {},
     "output_type": "execute_result"
    }
   ],
   "source": [
    "mean_zero_distance_rides=zero_distance_rides['fare_amount'].mean()\n",
    "mean_zero_distance_rides"
   ]
  },
  {
   "cell_type": "markdown",
   "id": "071f1063",
   "metadata": {},
   "source": [
    "### What is the maximum 'fare_amount' for a ride?"
   ]
  },
  {
   "cell_type": "code",
   "execution_count": 14,
   "id": "e515e1fe",
   "metadata": {},
   "outputs": [
    {
     "data": {
      "text/plain": [
       "499.0"
      ]
     },
     "execution_count": 14,
     "metadata": {},
     "output_type": "execute_result"
    }
   ],
   "source": [
    "maximum_amount = df['fare_amount'].max()\n",
    "maximum_amount"
   ]
  },
  {
   "cell_type": "markdown",
   "id": "001d07b7",
   "metadata": {},
   "source": [
    "### What is the haversine distance between pickup and dropoff location for the costliest ride?"
   ]
  },
  {
   "cell_type": "code",
   "execution_count": 15,
   "id": "336e9d18",
   "metadata": {},
   "outputs": [
    {
     "name": "stdout",
     "output_type": "stream",
     "text": [
      "Haversine distance between pickup and dropoff location for the costliest ride: 0.0007899213191009994\n"
     ]
    }
   ],
   "source": [
    "# Find the row with the highest 'fare_amount'\n",
    "costliest_ride = df[df['fare_amount'] == df['fare_amount'].max()]\n",
    "\n",
    "# Calculate the 'haversine_distance' for the costliest ride\n",
    "haversine_distance_costliest_ride = costliest_ride['haversine_distance'].values[0]\n",
    "\n",
    "# Print the result\n",
    "print(\"Haversine distance between pickup and dropoff location for the costliest ride:\", haversine_distance_costliest_ride)\n"
   ]
  },
  {
   "cell_type": "markdown",
   "id": "ab8ac8e7",
   "metadata": {},
   "source": [
    "### How many rides were recorded in the year 2014?"
   ]
  },
  {
   "cell_type": "code",
   "execution_count": 16,
   "id": "59ae7083",
   "metadata": {},
   "outputs": [
    {
     "name": "stdout",
     "output_type": "stream",
     "text": [
      "Number of rides recorded in the year 2014: 29968\n"
     ]
    }
   ],
   "source": [
    "# Convert 'pickup_datetime' to datetime if it's not already\n",
    "df['pickup_datetime'] = pd.to_datetime(df['pickup_datetime'])\n",
    "\n",
    "# Filter the DataFrame to include only rides in 2014\n",
    "rides_2014 = df[df['pickup_datetime'].dt.year == 2014]\n",
    "\n",
    "# Count the number of rides in 2014\n",
    "num_rides_2014 = len(rides_2014)\n",
    "\n",
    "# Print the result\n",
    "print(\"Number of rides recorded in the year 2014:\", num_rides_2014)\n"
   ]
  },
  {
   "cell_type": "markdown",
   "id": "bf7bba4f",
   "metadata": {},
   "source": [
    "### How many rides were recorded in the first quarter of 2014?\n"
   ]
  },
  {
   "cell_type": "code",
   "execution_count": 17,
   "id": "44b0d5c1",
   "metadata": {},
   "outputs": [
    {
     "name": "stdout",
     "output_type": "stream",
     "text": [
      "Number of rides recorded in the first quarter of 2014: 7687\n"
     ]
    }
   ],
   "source": [
    "# Convert 'pickup_datetime' to datetime if it's not already\n",
    "df['pickup_datetime'] = pd.to_datetime(df['pickup_datetime'])\n",
    "\n",
    "# Filter the DataFrame to include only rides in the first quarter of 2014\n",
    "rides_first_quarter_2014 = df[(df['pickup_datetime'].dt.year == 2014) & (df['pickup_datetime'].dt.quarter == 1)]\n",
    "\n",
    "# Count the number of rides in the first quarter of 2014\n",
    "num_rides_first_quarter_2014 = len(rides_first_quarter_2014)\n",
    "\n",
    "# Print the result\n",
    "print(\"Number of rides recorded in the first quarter of 2014:\", num_rides_first_quarter_2014)\n"
   ]
  },
  {
   "cell_type": "markdown",
   "id": "16b03dfe",
   "metadata": {},
   "source": [
    "### On which day of the week in September 2010, maximum rides were recorded ?"
   ]
  },
  {
   "cell_type": "code",
   "execution_count": 18,
   "id": "288a67c6",
   "metadata": {},
   "outputs": [
    {
     "name": "stdout",
     "output_type": "stream",
     "text": [
      "On which day of the week in September 2010, maximum rides were recorded: Thursday\n"
     ]
    }
   ],
   "source": [
    "# Convert 'pickup_datetime' to datetime if it's not already\n",
    "df['pickup_datetime'] = pd.to_datetime(df['pickup_datetime'])\n",
    "\n",
    "# Filter the DataFrame to include only rides in September 2010\n",
    "rides_september_2010 = df[(df['pickup_datetime'].dt.year == 2010) & (df['pickup_datetime'].dt.month == 9)]\n",
    "\n",
    "# Group the data by day of the week and count the rides for each day\n",
    "rides_by_day_of_week = rides_september_2010['pickup_datetime'].dt.day_name().value_counts()\n",
    "\n",
    "# Find the day with the maximum rides\n",
    "day_with_maximum_rides = rides_by_day_of_week.idxmax()\n",
    "\n",
    "# Print the result\n",
    "print(\"On which day of the week in September 2010, maximum rides were recorded:\", day_with_maximum_rides)\n"
   ]
  },
  {
   "cell_type": "markdown",
   "id": "0e2c6a48",
   "metadata": {},
   "source": [
    "### Apply a Machine Learning Algorithm to predict the fare amount given following input features:passenger_count, distance and ride_week_day.Perform a 70-30 split of data."
   ]
  },
  {
   "cell_type": "code",
   "execution_count": 56,
   "id": "24a5288a",
   "metadata": {},
   "outputs": [],
   "source": [
    "from sklearn.model_selection import train_test_split\n",
    "from sklearn.linear_model import LinearRegression\n",
    "from sklearn.ensemble import RandomForestRegressor\n"
   ]
  },
  {
   "cell_type": "code",
   "execution_count": 57,
   "id": "42f19474",
   "metadata": {},
   "outputs": [],
   "source": [
    "df['weekday'] = (df['pickup_datetime'].dt.weekday < 5).astype(int)\n"
   ]
  },
  {
   "cell_type": "code",
   "execution_count": 58,
   "id": "5dc97d31",
   "metadata": {},
   "outputs": [
    {
     "data": {
      "text/html": [
       "<div>\n",
       "<style scoped>\n",
       "    .dataframe tbody tr th:only-of-type {\n",
       "        vertical-align: middle;\n",
       "    }\n",
       "\n",
       "    .dataframe tbody tr th {\n",
       "        vertical-align: top;\n",
       "    }\n",
       "\n",
       "    .dataframe thead th {\n",
       "        text-align: right;\n",
       "    }\n",
       "</style>\n",
       "<table border=\"1\" class=\"dataframe\">\n",
       "  <thead>\n",
       "    <tr style=\"text-align: right;\">\n",
       "      <th></th>\n",
       "      <th>ride_id</th>\n",
       "      <th>fare_amount</th>\n",
       "      <th>pickup_datetime</th>\n",
       "      <th>pickup_longitude</th>\n",
       "      <th>pickup_latitude</th>\n",
       "      <th>dropoff_longitude</th>\n",
       "      <th>dropoff_latitude</th>\n",
       "      <th>passenger_count</th>\n",
       "      <th>haversine_distance</th>\n",
       "      <th>weekday</th>\n",
       "    </tr>\n",
       "  </thead>\n",
       "  <tbody>\n",
       "    <tr>\n",
       "      <th>0</th>\n",
       "      <td>24238194</td>\n",
       "      <td>7.5</td>\n",
       "      <td>2015-05-07 19:52:06+00:00</td>\n",
       "      <td>-73.999817</td>\n",
       "      <td>40.738354</td>\n",
       "      <td>-73.999512</td>\n",
       "      <td>40.723217</td>\n",
       "      <td>1</td>\n",
       "      <td>1.683323</td>\n",
       "      <td>1</td>\n",
       "    </tr>\n",
       "    <tr>\n",
       "      <th>1</th>\n",
       "      <td>27835199</td>\n",
       "      <td>7.7</td>\n",
       "      <td>2009-07-17 20:04:56+00:00</td>\n",
       "      <td>-73.994355</td>\n",
       "      <td>40.728225</td>\n",
       "      <td>-73.994710</td>\n",
       "      <td>40.750325</td>\n",
       "      <td>1</td>\n",
       "      <td>2.457590</td>\n",
       "      <td>1</td>\n",
       "    </tr>\n",
       "    <tr>\n",
       "      <th>2</th>\n",
       "      <td>44984355</td>\n",
       "      <td>12.9</td>\n",
       "      <td>2009-08-24 21:45:00+00:00</td>\n",
       "      <td>-74.005043</td>\n",
       "      <td>40.740770</td>\n",
       "      <td>-73.962565</td>\n",
       "      <td>40.772647</td>\n",
       "      <td>1</td>\n",
       "      <td>5.036377</td>\n",
       "      <td>1</td>\n",
       "    </tr>\n",
       "    <tr>\n",
       "      <th>3</th>\n",
       "      <td>25894730</td>\n",
       "      <td>5.3</td>\n",
       "      <td>2009-06-26 08:22:21+00:00</td>\n",
       "      <td>-73.976124</td>\n",
       "      <td>40.790844</td>\n",
       "      <td>-73.965316</td>\n",
       "      <td>40.803349</td>\n",
       "      <td>3</td>\n",
       "      <td>1.661683</td>\n",
       "      <td>1</td>\n",
       "    </tr>\n",
       "    <tr>\n",
       "      <th>4</th>\n",
       "      <td>17610152</td>\n",
       "      <td>16.0</td>\n",
       "      <td>2014-08-28 17:47:00+00:00</td>\n",
       "      <td>-73.925023</td>\n",
       "      <td>40.744085</td>\n",
       "      <td>-73.973082</td>\n",
       "      <td>40.761247</td>\n",
       "      <td>5</td>\n",
       "      <td>4.475450</td>\n",
       "      <td>1</td>\n",
       "    </tr>\n",
       "  </tbody>\n",
       "</table>\n",
       "</div>"
      ],
      "text/plain": [
       "    ride_id  fare_amount           pickup_datetime  pickup_longitude  \\\n",
       "0  24238194          7.5 2015-05-07 19:52:06+00:00        -73.999817   \n",
       "1  27835199          7.7 2009-07-17 20:04:56+00:00        -73.994355   \n",
       "2  44984355         12.9 2009-08-24 21:45:00+00:00        -74.005043   \n",
       "3  25894730          5.3 2009-06-26 08:22:21+00:00        -73.976124   \n",
       "4  17610152         16.0 2014-08-28 17:47:00+00:00        -73.925023   \n",
       "\n",
       "   pickup_latitude  dropoff_longitude  dropoff_latitude  passenger_count  \\\n",
       "0        40.738354         -73.999512         40.723217                1   \n",
       "1        40.728225         -73.994710         40.750325                1   \n",
       "2        40.740770         -73.962565         40.772647                1   \n",
       "3        40.790844         -73.965316         40.803349                3   \n",
       "4        40.744085         -73.973082         40.761247                5   \n",
       "\n",
       "   haversine_distance  weekday  \n",
       "0            1.683323        1  \n",
       "1            2.457590        1  \n",
       "2            5.036377        1  \n",
       "3            1.661683        1  \n",
       "4            4.475450        1  "
      ]
     },
     "execution_count": 58,
     "metadata": {},
     "output_type": "execute_result"
    }
   ],
   "source": [
    "df.head()"
   ]
  },
  {
   "cell_type": "code",
   "execution_count": 59,
   "id": "76dc9ac3",
   "metadata": {},
   "outputs": [
    {
     "data": {
      "text/plain": [
       "(199999, 10)"
      ]
     },
     "execution_count": 59,
     "metadata": {},
     "output_type": "execute_result"
    }
   ],
   "source": [
    "df.shape"
   ]
  },
  {
   "cell_type": "code",
   "execution_count": null,
   "id": "cc467192",
   "metadata": {},
   "outputs": [],
   "source": []
  },
  {
   "cell_type": "code",
   "execution_count": 60,
   "id": "fa6c95f7",
   "metadata": {},
   "outputs": [],
   "source": [
    "x= df[['passenger_count', 'haversine_distance', 'weekday']]\n",
    "y=df[['fare_amount']]"
   ]
  },
  {
   "cell_type": "code",
   "execution_count": 61,
   "id": "b9e84342",
   "metadata": {},
   "outputs": [],
   "source": [
    "x_train,x_test,y_train,y_test=train_test_split(x,y,test_size=0.25,random_state=50)"
   ]
  },
  {
   "cell_type": "code",
   "execution_count": 62,
   "id": "20017913",
   "metadata": {},
   "outputs": [
    {
     "data": {
      "text/html": [
       "<div>\n",
       "<style scoped>\n",
       "    .dataframe tbody tr th:only-of-type {\n",
       "        vertical-align: middle;\n",
       "    }\n",
       "\n",
       "    .dataframe tbody tr th {\n",
       "        vertical-align: top;\n",
       "    }\n",
       "\n",
       "    .dataframe thead th {\n",
       "        text-align: right;\n",
       "    }\n",
       "</style>\n",
       "<table border=\"1\" class=\"dataframe\">\n",
       "  <thead>\n",
       "    <tr style=\"text-align: right;\">\n",
       "      <th></th>\n",
       "      <th>passenger_count</th>\n",
       "      <th>haversine_distance</th>\n",
       "      <th>weekday</th>\n",
       "    </tr>\n",
       "  </thead>\n",
       "  <tbody>\n",
       "    <tr>\n",
       "      <th>142279</th>\n",
       "      <td>1</td>\n",
       "      <td>3.930973</td>\n",
       "      <td>1</td>\n",
       "    </tr>\n",
       "    <tr>\n",
       "      <th>99588</th>\n",
       "      <td>1</td>\n",
       "      <td>0.984012</td>\n",
       "      <td>1</td>\n",
       "    </tr>\n",
       "    <tr>\n",
       "      <th>132761</th>\n",
       "      <td>1</td>\n",
       "      <td>2.591569</td>\n",
       "      <td>1</td>\n",
       "    </tr>\n",
       "    <tr>\n",
       "      <th>95196</th>\n",
       "      <td>6</td>\n",
       "      <td>3.267647</td>\n",
       "      <td>1</td>\n",
       "    </tr>\n",
       "    <tr>\n",
       "      <th>76526</th>\n",
       "      <td>1</td>\n",
       "      <td>0.702209</td>\n",
       "      <td>0</td>\n",
       "    </tr>\n",
       "  </tbody>\n",
       "</table>\n",
       "</div>"
      ],
      "text/plain": [
       "        passenger_count  haversine_distance  weekday\n",
       "142279                1            3.930973        1\n",
       "99588                 1            0.984012        1\n",
       "132761                1            2.591569        1\n",
       "95196                 6            3.267647        1\n",
       "76526                 1            0.702209        0"
      ]
     },
     "execution_count": 62,
     "metadata": {},
     "output_type": "execute_result"
    }
   ],
   "source": [
    "x_train_num=x_train.select_dtypes(['int','float'])\n",
    "x_train_num.head()"
   ]
  },
  {
   "cell_type": "code",
   "execution_count": 63,
   "id": "f8b7185b",
   "metadata": {},
   "outputs": [],
   "source": [
    "from sklearn.preprocessing import StandardScaler\n",
    "sc=StandardScaler()"
   ]
  },
  {
   "cell_type": "code",
   "execution_count": 64,
   "id": "55763ae4",
   "metadata": {},
   "outputs": [],
   "source": [
    "x_train_num_sc=pd.DataFrame(sc.fit_transform(x_train_num),index=x_train_num.index,\\\n",
    "                           columns=sc.get_feature_names_out(x_train_num.columns))"
   ]
  },
  {
   "cell_type": "code",
   "execution_count": 65,
   "id": "98a763ca",
   "metadata": {},
   "outputs": [
    {
     "data": {
      "text/html": [
       "<div>\n",
       "<style scoped>\n",
       "    .dataframe tbody tr th:only-of-type {\n",
       "        vertical-align: middle;\n",
       "    }\n",
       "\n",
       "    .dataframe tbody tr th {\n",
       "        vertical-align: top;\n",
       "    }\n",
       "\n",
       "    .dataframe thead th {\n",
       "        text-align: right;\n",
       "    }\n",
       "</style>\n",
       "<table border=\"1\" class=\"dataframe\">\n",
       "  <thead>\n",
       "    <tr style=\"text-align: right;\">\n",
       "      <th></th>\n",
       "      <th>passenger_count</th>\n",
       "      <th>haversine_distance</th>\n",
       "      <th>weekday</th>\n",
       "    </tr>\n",
       "  </thead>\n",
       "  <tbody>\n",
       "    <tr>\n",
       "      <th>142279</th>\n",
       "      <td>-0.521949</td>\n",
       "      <td>-0.042971</td>\n",
       "      <td>0.626604</td>\n",
       "    </tr>\n",
       "    <tr>\n",
       "      <th>99588</th>\n",
       "      <td>-0.521949</td>\n",
       "      <td>-0.050877</td>\n",
       "      <td>0.626604</td>\n",
       "    </tr>\n",
       "    <tr>\n",
       "      <th>132761</th>\n",
       "      <td>-0.521949</td>\n",
       "      <td>-0.046564</td>\n",
       "      <td>0.626604</td>\n",
       "    </tr>\n",
       "    <tr>\n",
       "      <th>95196</th>\n",
       "      <td>3.300261</td>\n",
       "      <td>-0.044750</td>\n",
       "      <td>0.626604</td>\n",
       "    </tr>\n",
       "    <tr>\n",
       "      <th>76526</th>\n",
       "      <td>-0.521949</td>\n",
       "      <td>-0.051633</td>\n",
       "      <td>-1.595905</td>\n",
       "    </tr>\n",
       "  </tbody>\n",
       "</table>\n",
       "</div>"
      ],
      "text/plain": [
       "        passenger_count  haversine_distance   weekday\n",
       "142279        -0.521949           -0.042971  0.626604\n",
       "99588         -0.521949           -0.050877  0.626604\n",
       "132761        -0.521949           -0.046564  0.626604\n",
       "95196          3.300261           -0.044750  0.626604\n",
       "76526         -0.521949           -0.051633 -1.595905"
      ]
     },
     "execution_count": 65,
     "metadata": {},
     "output_type": "execute_result"
    }
   ],
   "source": [
    "x_train_num_sc.head()"
   ]
  },
  {
   "cell_type": "code",
   "execution_count": 66,
   "id": "5abbb901",
   "metadata": {},
   "outputs": [],
   "source": [
    "x_test_num=x_test.select_dtypes(['int','float'])"
   ]
  },
  {
   "cell_type": "code",
   "execution_count": 67,
   "id": "2e662dc3",
   "metadata": {},
   "outputs": [
    {
     "data": {
      "text/html": [
       "<div>\n",
       "<style scoped>\n",
       "    .dataframe tbody tr th:only-of-type {\n",
       "        vertical-align: middle;\n",
       "    }\n",
       "\n",
       "    .dataframe tbody tr th {\n",
       "        vertical-align: top;\n",
       "    }\n",
       "\n",
       "    .dataframe thead th {\n",
       "        text-align: right;\n",
       "    }\n",
       "</style>\n",
       "<table border=\"1\" class=\"dataframe\">\n",
       "  <thead>\n",
       "    <tr style=\"text-align: right;\">\n",
       "      <th></th>\n",
       "      <th>passenger_count</th>\n",
       "      <th>haversine_distance</th>\n",
       "      <th>weekday</th>\n",
       "    </tr>\n",
       "  </thead>\n",
       "  <tbody>\n",
       "    <tr>\n",
       "      <th>167570</th>\n",
       "      <td>-0.521949</td>\n",
       "      <td>-0.051668</td>\n",
       "      <td>0.626604</td>\n",
       "    </tr>\n",
       "    <tr>\n",
       "      <th>40250</th>\n",
       "      <td>-0.521949</td>\n",
       "      <td>-0.051146</td>\n",
       "      <td>0.626604</td>\n",
       "    </tr>\n",
       "    <tr>\n",
       "      <th>50776</th>\n",
       "      <td>-0.521949</td>\n",
       "      <td>-0.050543</td>\n",
       "      <td>0.626604</td>\n",
       "    </tr>\n",
       "    <tr>\n",
       "      <th>145625</th>\n",
       "      <td>-0.521949</td>\n",
       "      <td>-0.043032</td>\n",
       "      <td>-1.595905</td>\n",
       "    </tr>\n",
       "    <tr>\n",
       "      <th>78196</th>\n",
       "      <td>0.242493</td>\n",
       "      <td>-0.043141</td>\n",
       "      <td>-1.595905</td>\n",
       "    </tr>\n",
       "  </tbody>\n",
       "</table>\n",
       "</div>"
      ],
      "text/plain": [
       "        passenger_count  haversine_distance   weekday\n",
       "167570        -0.521949           -0.051668  0.626604\n",
       "40250         -0.521949           -0.051146  0.626604\n",
       "50776         -0.521949           -0.050543  0.626604\n",
       "145625        -0.521949           -0.043032 -1.595905\n",
       "78196          0.242493           -0.043141 -1.595905"
      ]
     },
     "execution_count": 67,
     "metadata": {},
     "output_type": "execute_result"
    }
   ],
   "source": [
    "x_test_num_sc=pd.DataFrame(sc.transform(x_test_num),index=x_test_num.index,columns=x_test_num.columns)\n",
    "x_test_num_sc.head()"
   ]
  },
  {
   "cell_type": "markdown",
   "id": "1c1d454d",
   "metadata": {},
   "source": [
    "## LinearRegression"
   ]
  },
  {
   "cell_type": "code",
   "execution_count": 68,
   "id": "07e5bb44",
   "metadata": {},
   "outputs": [
    {
     "name": "stdout",
     "output_type": "stream",
     "text": [
      "r2_score: 0.000602545860706849\n",
      "mean_squared_error: 94.44887213910542\n",
      "Adjusted R-squared: 0.000542577215966844\n"
     ]
    }
   ],
   "source": [
    "from sklearn.metrics import r2_score,mean_squared_error\n",
    "model = LinearRegression()\n",
    "model.fit(x_train_num_sc, y_train)\n",
    "y_pred=model.predict(x_test_num_sc)\n",
    "r2 = r2_score(y_test, y_pred)\n",
    "print('r2_score:',r2)\n",
    "mse=mean_squared_error(y_test, y_pred)\n",
    "print('mean_squared_error:',mse)\n",
    "# Calculate adjusted R-squared\n",
    "n = len(x_test)  # Number of observations in the test set\n",
    "p = x_test.shape[1]  # Number of features used in the model (3 in your example)\n",
    "adjusted_r2 = 1 - (1 - r2) * (n - 1) / (n - p - 1)\n",
    "\n",
    "print(\"Adjusted R-squared:\", adjusted_r2)"
   ]
  },
  {
   "cell_type": "markdown",
   "id": "5d176622",
   "metadata": {},
   "source": [
    "## Random Forest"
   ]
  },
  {
   "cell_type": "code",
   "execution_count": 70,
   "id": "b0573935",
   "metadata": {
    "scrolled": true
   },
   "outputs": [
    {
     "name": "stderr",
     "output_type": "stream",
     "text": [
      "C:\\Users\\Maruthipadala\\AppData\\Local\\Temp\\ipykernel_12240\\1423065063.py:3: DataConversionWarning: A column-vector y was passed when a 1d array was expected. Please change the shape of y to (n_samples,), for example using ravel().\n",
      "  rf.fit(x_train_num_sc, y_train)\n"
     ]
    },
    {
     "name": "stdout",
     "output_type": "stream",
     "text": [
      "Random Forest Model:\n",
      "R-squared (Random Forest): 0.6670384668492634\n",
      "Mean Squared Error (Random Forest): 31.46680146276551\n",
      "Adjusted R-squared (Random Forest): 0.6670184875589311\n"
     ]
    }
   ],
   "source": [
    "from sklearn.metrics import r2_score, mean_squared_error\n",
    "rf = RandomForestRegressor()\n",
    "rf.fit(x_train_num_sc, y_train)\n",
    "y_pred_rf=rf.predict(x_test_num_sc)\n",
    "# Calculate R-squared and MSE for your Random Forest Regressor model\n",
    "r2_rf = r2_score(y_test, y_pred_rf)\n",
    "mse_rf = mean_squared_error(y_test, y_pred_rf)\n",
    "print('Random Forest Model:')\n",
    "print(\"R-squared (Random Forest):\", r2_rf)\n",
    "print(\"Mean Squared Error (Random Forest):\", mse_rf)\n",
    "\n",
    "# Calculate adjusted R-squared\n",
    "n = len(x_test)  # Number of observations in the test set\n",
    "p = x_test.shape[1]  # Number of features used in the model (3 in your example)\n",
    "adjusted_r2_rf = 1 - (1 - r2_rf) * (n - 1) / (n - p - 1)\n",
    "\n",
    "print(\"Adjusted R-squared (Random Forest):\", adjusted_r2_rf)"
   ]
  },
  {
   "cell_type": "markdown",
   "id": "f14396df",
   "metadata": {},
   "source": [
    "### Among the algorithms you evaluated (Linear Regression, Random Forest Regression), Linear Regression gives the least adjusted R-squared value. The adjusted R-squared value for Linear Regression is approximately"
   ]
  }
 ],
 "metadata": {
  "kernelspec": {
   "display_name": "Python 3 (ipykernel)",
   "language": "python",
   "name": "python3"
  },
  "language_info": {
   "codemirror_mode": {
    "name": "ipython",
    "version": 3
   },
   "file_extension": ".py",
   "mimetype": "text/x-python",
   "name": "python",
   "nbconvert_exporter": "python",
   "pygments_lexer": "ipython3",
   "version": "3.9.12"
  }
 },
 "nbformat": 4,
 "nbformat_minor": 5
}
